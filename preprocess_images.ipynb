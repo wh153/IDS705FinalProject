{
  "nbformat": 4,
  "nbformat_minor": 0,
  "metadata": {
    "colab": {
      "name": "preprocess images",
      "provenance": []
    },
    "kernelspec": {
      "name": "python3",
      "display_name": "Python 3"
    },
    "language_info": {
      "name": "python"
    }
  },
  "cells": [
    {
      "cell_type": "code",
      "execution_count": 6,
      "metadata": {
        "id": "mEjOQKbs2AH_"
      },
      "outputs": [],
      "source": [
        "%%capture\n",
        "! pip install kaggle\n",
        "! mkdir ~/.kaggle\n",
        "! cp kaggle.json ~/.kaggle/\n",
        "! chmod 600 ~/.kaggle/kaggle.json\n",
        "! kaggle datasets download meowmeowmeowmeowmeow/gtsrb-german-traffic-sign\n",
        "! unzip gtsrb-german-traffic-sign.zip"
      ]
    },
    {
      "cell_type": "code",
      "source": [
        "import pandas as pd\n",
        "from torch.utils.data import DataLoader, Dataset\n",
        "import torchvision.transforms as T\n",
        "import torch\n",
        "import torch.nn as nn\n",
        "from torchvision.utils import make_grid\n",
        "from torchvision.utils import save_image\n",
        "from IPython.display import Image\n",
        "import matplotlib.pyplot as plt\n",
        "import numpy as np\n",
        "import random\n",
        "from PIL import Image\n",
        "from matplotlib import image\n",
        "import pickle"
      ],
      "metadata": {
        "id": "38MF_hiR35Pt"
      },
      "execution_count": 42,
      "outputs": []
    },
    {
      "cell_type": "code",
      "source": [
        "meta = pd.read_csv('Meta.csv')\n",
        "train = pd.read_csv('Train.csv')\n",
        "test = pd.read_csv('Test.csv')"
      ],
      "metadata": {
        "id": "eGDUkdE04jFc"
      },
      "execution_count": 9,
      "outputs": []
    },
    {
      "cell_type": "code",
      "source": [
        "# look for Trafic Light, Stop, Speedlimit, Crosswalk\n",
        "# select class id: 0, 1, 2, 3, 14, 27\n",
        "classID = [0, 1, 2, 3, 14, 27]\n",
        "train = train.loc[train['ClassId'].isin(classID)]\n",
        "print('Train Size: ' + str(train.shape))\n",
        "test = test.loc[test['ClassId'].isin(classID)]\n",
        "print('Test Size: ' + str(test.shape))"
      ],
      "metadata": {
        "colab": {
          "base_uri": "https://localhost:8080/"
        },
        "id": "IcNw9E584nEl",
        "outputId": "7abb82f6-eca4-4abf-8d08-496ff218c5ac"
      },
      "execution_count": 10,
      "outputs": [
        {
          "output_type": "stream",
          "name": "stdout",
          "text": [
            "Train Size: (7110, 8)\n",
            "Test Size: (2310, 8)\n"
          ]
        }
      ]
    },
    {
      "cell_type": "code",
      "source": [
        "train['ClassId'].value_counts()"
      ],
      "metadata": {
        "colab": {
          "base_uri": "https://localhost:8080/"
        },
        "id": "nGMBKmd572Zh",
        "outputId": "381f7eae-7d9f-4f2e-bbae-b48c96c7c7e5"
      },
      "execution_count": 11,
      "outputs": [
        {
          "output_type": "execute_result",
          "data": {
            "text/plain": [
              "2     2250\n",
              "1     2220\n",
              "3     1410\n",
              "14     780\n",
              "27     240\n",
              "0      210\n",
              "Name: ClassId, dtype: int64"
            ]
          },
          "metadata": {},
          "execution_count": 11
        }
      ]
    },
    {
      "cell_type": "code",
      "source": [
        "test['ClassId'].value_counts()"
      ],
      "metadata": {
        "colab": {
          "base_uri": "https://localhost:8080/"
        },
        "id": "0kMCOpVO8SF6",
        "outputId": "f34dc227-fe64-4b5f-b4b1-172d4b77aba0"
      },
      "execution_count": 12,
      "outputs": [
        {
          "output_type": "execute_result",
          "data": {
            "text/plain": [
              "2     750\n",
              "1     720\n",
              "3     450\n",
              "14    270\n",
              "27     60\n",
              "0      60\n",
              "Name: ClassId, dtype: int64"
            ]
          },
          "metadata": {},
          "execution_count": 12
        }
      ]
    },
    {
      "cell_type": "code",
      "source": [
        "# load image data and prepare for preprocessing\n",
        "train_path = train['Path']\n",
        "train_imgs = []\n",
        "for path in train_path:\n",
        "  img = image.imread(path)\n",
        "  train_imgs.append(img)"
      ],
      "metadata": {
        "id": "ib6Zxl-_8dKX"
      },
      "execution_count": 38,
      "outputs": []
    },
    {
      "cell_type": "code",
      "source": [
        "train_imgs = np.array(train_imgs)\n",
        "train_y = np.array(train['ClassId'])"
      ],
      "metadata": {
        "colab": {
          "base_uri": "https://localhost:8080/"
        },
        "id": "YS63iH9nWc-2",
        "outputId": "5bbd2c6f-e8d4-49aa-b179-4363079ee06c"
      },
      "execution_count": 39,
      "outputs": [
        {
          "output_type": "stream",
          "name": "stderr",
          "text": [
            "/usr/local/lib/python3.7/dist-packages/ipykernel_launcher.py:1: VisibleDeprecationWarning: Creating an ndarray from ragged nested sequences (which is a list-or-tuple of lists-or-tuples-or ndarrays with different lengths or shapes) is deprecated. If you meant to do this, you must specify 'dtype=object' when creating the ndarray.\n",
            "  \"\"\"Entry point for launching an IPython kernel.\n"
          ]
        }
      ]
    },
    {
      "cell_type": "code",
      "source": [
        "# load image data and prepare for preprocessing\n",
        "test_path = test['Path']\n",
        "test_imgs = []\n",
        "for path in test_path:\n",
        "  img = image.imread(path)\n",
        "  test_imgs.append(img)"
      ],
      "metadata": {
        "id": "UvhBo_efWvXl"
      },
      "execution_count": 40,
      "outputs": []
    },
    {
      "cell_type": "code",
      "source": [
        "test_imgs = np.array(test_imgs)\n",
        "test_y = np.array(test['ClassId'])"
      ],
      "metadata": {
        "colab": {
          "base_uri": "https://localhost:8080/"
        },
        "id": "RM1BLKtbW654",
        "outputId": "1c0daf40-e676-471c-ed0e-6b373a7037e7"
      },
      "execution_count": 41,
      "outputs": [
        {
          "output_type": "stream",
          "name": "stderr",
          "text": [
            "/usr/local/lib/python3.7/dist-packages/ipykernel_launcher.py:1: VisibleDeprecationWarning: Creating an ndarray from ragged nested sequences (which is a list-or-tuple of lists-or-tuples-or ndarrays with different lengths or shapes) is deprecated. If you meant to do this, you must specify 'dtype=object' when creating the ndarray.\n",
            "  \"\"\"Entry point for launching an IPython kernel.\n"
          ]
        }
      ]
    },
    {
      "cell_type": "code",
      "source": [
        "\"\"\"\n",
        "with open('X_train.pkl','wb') as f:\n",
        "  pickle.dump(train_imgs, f)\n",
        "\n",
        "with open('y_train.pkl','wb') as f:\n",
        "  pickle.dump(train_y, f)\n",
        "\n",
        "with open('X_test.pkl','wb') as f:\n",
        "  pickle.dump(test_imgs, f)\n",
        "\n",
        "with open('y_test.pkl','wb') as f:\n",
        "  pickle.dump(test_y, f)\n",
        "\n",
        "\"\"\""
      ],
      "metadata": {
        "colab": {
          "base_uri": "https://localhost:8080/",
          "height": 52
        },
        "id": "pLteR82ZbsEj",
        "outputId": "0aae6c5a-f8ee-4d84-9e7f-07c699207c54"
      },
      "execution_count": 44,
      "outputs": [
        {
          "output_type": "execute_result",
          "data": {
            "text/plain": [
              "\"\\nwith open('X_train.pkl','wb') as f:\\n  pickle.dump(train_imgs, f)\\n\\nwith open('y_train.pkl','wb') as f:\\n  pickle.dump(train_y, f)\\n\\nwith open('X_test.pkl','wb') as f:\\n  pickle.dump(test_imgs, f)\\n\\nwith open('y_test.pkl','wb') as f:\\n  pickle.dump(test_y, f)\\n\\n\""
            ],
            "application/vnd.google.colaboratory.intrinsic+json": {
              "type": "string"
            }
          },
          "metadata": {},
          "execution_count": 44
        }
      ]
    },
    {
      "cell_type": "code",
      "source": [
        ""
      ],
      "metadata": {
        "id": "Ex63J3CncgDx"
      },
      "execution_count": null,
      "outputs": []
    }
  ]
}